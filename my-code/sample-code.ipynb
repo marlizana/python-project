{
 "cells": [
  {
   "cell_type": "markdown",
   "metadata": {
    "ExecuteTime": {
     "end_time": "2020-01-15T08:55:53.901021Z",
     "start_time": "2020-01-15T08:55:53.826430Z"
    },
    "code_folding": []
   },
   "source": [
    "# Scape Room - Strage House"
   ]
  },
  {
   "cell_type": "markdown",
   "metadata": {},
   "source": [
    " Juego de escape room. El objetivo es salir de la casa, para ello es necesario encontrar los objetos que te lo permitirán."
   ]
  },
  {
   "cell_type": "markdown",
   "metadata": {},
   "source": [
    "## Flowchart"
   ]
  },
  {
   "cell_type": "markdown",
   "metadata": {
    "ExecuteTime": {
     "end_time": "2020-01-16T12:34:21.870834Z",
     "start_time": "2020-01-16T12:34:21.863911Z"
    }
   },
   "source": [
    "<img src=\"Blank Diagram (4).jpeg\">"
   ]
  },
  {
   "cell_type": "markdown",
   "metadata": {},
   "source": [
    "## Librerías"
   ]
  },
  {
   "cell_type": "code",
   "execution_count": null,
   "metadata": {
    "ExecuteTime": {
     "end_time": "2020-01-16T20:40:34.495554Z",
     "start_time": "2020-01-16T20:40:34.120632Z"
    },
    "code_folding": []
   },
   "outputs": [],
   "source": [
    "#Librerías\n",
    "from PIL import Image\n",
    "from termcolor import colored\n",
    "from pygame import mixer\n",
    "import os\n",
    "from IPython.display import display_html"
   ]
  },
  {
   "cell_type": "markdown",
   "metadata": {},
   "source": [
    "## Habitaciones, objetos y relaciones"
   ]
  },
  {
   "cell_type": "markdown",
   "metadata": {},
   "source": [
    "### Habitaciones y objetos"
   ]
  },
  {
   "cell_type": "code",
   "execution_count": null,
   "metadata": {
    "ExecuteTime": {
     "end_time": "2020-01-16T20:40:34.521409Z",
     "start_time": "2020-01-16T20:40:34.501871Z"
    },
    "code_folding": []
   },
   "outputs": [],
   "source": [
    "#Define rooms and items\n",
    "\n",
    "\n",
    "#Rooms\n",
    "\n",
    "living_room = {\n",
    "    \"name\": \"living room\",\n",
    "    \"type\": \"room\",\n",
    "}\n",
    "\n",
    "\n",
    "bedroom_1 = {\n",
    "    \"name\": \"bedroom 1\",\n",
    "    \"type\": \"room\",\n",
    "}\n",
    "\n",
    "bedroom_2 = {\n",
    "    \"name\": \"bedroom 2\",\n",
    "    \"type\": \"room\",\n",
    "}\n",
    "\n",
    "dinning_room = {\n",
    "    \"name\": \"dinning room\",\n",
    "    \"type\": \"room\",\n",
    "}\n",
    "\n",
    "outside = {\n",
    "    \"name\": \"outside\",\n",
    "}\n",
    "\n",
    "\n",
    "#Items\n",
    "\n",
    "pictures = {\n",
    "    \"name\": \"pictures\",\n",
    "    \"type\": \"forniture\",\n",
    "}\n",
    "\n",
    "strange_picture = {\n",
    "    \"name\": \"strange portrait\",\n",
    "    \"type\": \"forniture\",\n",
    "}\n",
    "\n",
    "couch = {\n",
    "    \"name\": \"couch\",\n",
    "    \"type\": \"furniture\",\n",
    "}\n",
    "\n",
    "piano = {\n",
    "    \"name\": \"piano\",\n",
    "    \"type\": \"furniture\",\n",
    "}\n",
    "\n",
    "queen_bed = {\n",
    "    \"name\": \"queen bed\",\n",
    "    \"type\": \"forniture\",\n",
    "}\n",
    "\n",
    "dresser = {\n",
    "    \"name\": \"dresser\",\n",
    "    \"type\": \"forniture\",\n",
    "}\n",
    "\n",
    "dinning_table = {\n",
    "    \"name\": \"dinning table\",\n",
    "    \"type\": \"forniture\",\n",
    "}\n",
    "\n",
    "double_bed = {\n",
    "    \"name\": \"double bed\",\n",
    "    \"type\": \"forniture\",\n",
    "}\n",
    "\n",
    "window_gameroom = {\n",
    "    \"name\": \"window\",\n",
    "    \"type\": \"forniture\",\n",
    "}\n",
    "\n",
    "window_bedroom2 = {\n",
    "    \"name\": \"window\",\n",
    "    \"type\": \"forniture\",\n",
    "}\n",
    "\n",
    "painted_wall = {\n",
    "    \"name\": \"painted wall\",\n",
    "    \"type\":\"forniture\",\n",
    "}\n",
    "\n",
    "\n",
    "#Doors\n",
    "\n",
    "door_a = {\n",
    "    \"name\": \"door a\",\n",
    "    \"type\": \"door\",\n",
    "}\n",
    "\n",
    "door_b = {\n",
    "    \"name\": \"door b\",\n",
    "    \"type\": \"door\",\n",
    "}\n",
    "\n",
    "door_c = {\n",
    "    \"name\": \"door c\",\n",
    "    \"type\": \"door\",\n",
    "}\n",
    "\n",
    "\n",
    "black_door = {\n",
    "    \"name\": \"black door\",\n",
    "    \"type\": \"black door\"\n",
    "}\n",
    "\n",
    "\n",
    "#Keys\n",
    "\n",
    "key_a = {\n",
    "    \"name\": \"key for door a\",\n",
    "    \"type\": \"key\",\n",
    "    \"target\": door_a,\n",
    "}\n",
    "\n",
    "key_b = {\n",
    "    \"name\": \"key for door b\",\n",
    "    \"type\": \"key\",\n",
    "    \"target\": door_b,\n",
    "}\n",
    "\n",
    "key_c = {\n",
    "    \"name\": \"key for door c\",\n",
    "    \"type\": \"key\",\n",
    "    \"target\": door_c,\n",
    "}\n",
    "\n",
    "\n",
    "\n",
    "all_rooms = [\"living_room\", \"bedroom_1\", \"bedroom_2\", \"dinning_room\", \"outside\"]\n",
    "\n",
    "all_doors = [\"door_a\",\"door_b\", \"door_c\", \"black_door\"]"
   ]
  },
  {
   "cell_type": "markdown",
   "metadata": {},
   "source": [
    "### Relaciones"
   ]
  },
  {
   "cell_type": "code",
   "execution_count": null,
   "metadata": {
    "ExecuteTime": {
     "end_time": "2020-01-16T20:40:34.540768Z",
     "start_time": "2020-01-16T20:40:34.529692Z"
    },
    "code_folding": [
     0
    ]
   },
   "outputs": [],
   "source": [
    "# define which items/rooms are related\n",
    "\n",
    "object_relations = {\n",
    "    \"living room\": [couch, piano, window_gameroom, pictures, door_a],\n",
    "    \"piano\": [key_a],\n",
    "    \"door a\": [living_room, bedroom_1],\n",
    "    \"bedroom 1\": [queen_bed, strange_picture, door_b, door_a, door_c],\n",
    "    \"queen bed\": [key_b],\n",
    "    \"door b\": [bedroom_1, bedroom_2],\n",
    "    \"bedroom 2\": [double_bed, dresser, window_bedroom2, door_b],\n",
    "    \"double bed\": [key_c],\n",
    "    \"dinning room\": [dinning_table, painted_wall, black_door, door_c],\n",
    "    \"outside\": [black_door],\n",
    "    \"door c\": [bedroom_1, dinning_room],\n",
    "    \"black door\": [dinning_room, outside],\n",
    "}"
   ]
  },
  {
   "cell_type": "markdown",
   "metadata": {},
   "source": [
    "## Game state"
   ]
  },
  {
   "cell_type": "code",
   "execution_count": null,
   "metadata": {
    "ExecuteTime": {
     "end_time": "2020-01-16T20:40:34.556987Z",
     "start_time": "2020-01-16T20:40:34.549759Z"
    },
    "code_folding": [
     0
    ]
   },
   "outputs": [],
   "source": [
    "# define game state. Do not directly change this dict. \n",
    "# Instead, when a new game starts, make a copy of this\n",
    "# dict and use the copy to store gameplay state. This \n",
    "# way you can replay the game multiple times.\n",
    "\n",
    "INIT_GAME_STATE = { \n",
    "    \"current_room\": living_room,\n",
    "    \"keys_collected\": [],\n",
    "    \"target_room\": outside,\n",
    "    \"die\": [],\n",
    "}"
   ]
  },
  {
   "cell_type": "markdown",
   "metadata": {
    "ExecuteTime": {
     "end_time": "2020-01-15T09:31:27.047923Z",
     "start_time": "2020-01-15T09:31:27.041385Z"
    }
   },
   "source": [
    "## Functions"
   ]
  },
  {
   "cell_type": "code",
   "execution_count": null,
   "metadata": {
    "ExecuteTime": {
     "end_time": "2020-01-16T20:40:34.571827Z",
     "start_time": "2020-01-16T20:40:34.562262Z"
    },
    "code_folding": [
     0
    ]
   },
   "outputs": [],
   "source": [
    "def linebreak():\n",
    "    \"\"\"\n",
    "    Print a line break\n",
    "    \"\"\"\n",
    "    print(\"\\n\\n\")"
   ]
  },
  {
   "cell_type": "code",
   "execution_count": null,
   "metadata": {
    "ExecuteTime": {
     "end_time": "2020-01-16T20:40:34.584835Z",
     "start_time": "2020-01-16T20:40:34.576249Z"
    },
    "code_folding": []
   },
   "outputs": [],
   "source": [
    "def sounds(x):\n",
    "    \"\"\"\n",
    "    importa sonidos\n",
    "    \"\"\"\n",
    "    mixer.init()\n",
    "    mixer.music.load(x)\n",
    "    mixer.music.play()"
   ]
  },
  {
   "cell_type": "code",
   "execution_count": null,
   "metadata": {
    "ExecuteTime": {
     "end_time": "2020-01-16T20:40:34.598616Z",
     "start_time": "2020-01-16T20:40:34.589516Z"
    },
    "code_folding": [
     0
    ]
   },
   "outputs": [],
   "source": [
    "def imagenes(x):\n",
    "    \"\"\"\n",
    "    importa imágenes\n",
    "    \"\"\"\n",
    "    image = Image.open(x)\n",
    "    image.show()"
   ]
  },
  {
   "cell_type": "code",
   "execution_count": null,
   "metadata": {
    "ExecuteTime": {
     "end_time": "2020-01-16T20:40:34.614264Z",
     "start_time": "2020-01-16T20:40:34.606714Z"
    },
    "code_folding": []
   },
   "outputs": [],
   "source": [
    "def restart_game():\n",
    "    \n",
    "    \"\"\"\n",
    "    Permite volver a lanzar el juego.\n",
    "    \"\"\"\n",
    "    \n",
    "    state = input(\"Do you want restart de game? 'yes' or 'no'.\")\n",
    "\n",
    "    if state == \"yes\":\n",
    "        \n",
    "        #Aquí deja de funcional el kernel, \n",
    "        #pero tampoco sirve para volver a iniciar las variables del juego\n",
    "\n",
    "        display_html(\"<script>Jupyter.notebook.kernel.restart()</script>\",raw=True)\n",
    "        \n",
    "        INIT_GAME_STATE = { \n",
    "            \"current_room\": living_room,\n",
    "            \"keys_collected\": [],\n",
    "            \"target_room\": outside,\n",
    "            \"die\": [],\n",
    "        }\n",
    "        \n",
    "        game_state = INIT_GAME_STATE.copy()\n",
    "        start_game()\n",
    "\n",
    "    elif state == \"no\":\n",
    "        print(\"Good bye.\")\n"
   ]
  },
  {
   "cell_type": "code",
   "execution_count": null,
   "metadata": {
    "ExecuteTime": {
     "end_time": "2020-01-16T20:40:34.627929Z",
     "start_time": "2020-01-16T20:40:34.619716Z"
    },
    "code_folding": []
   },
   "outputs": [],
   "source": [
    "def start_game():\n",
    "    \n",
    "    \"\"\"\n",
    "    Start the game\n",
    "    \"\"\"\n",
    "    #Mensaje de inicios con negritas\n",
    "    \n",
    "    print (\"You wake up on a couch and find yourself in a extrage house which you have never been to before.\"\n",
    "           \"\\nYou don't remember why you are here and what had happened before.\"\n",
    "           \"\\nYou feel some unknown danger is approaching and you must get out of the house...\" +\n",
    "           colored(\"\\n\\n\\n...NOW!\", attrs = ['bold']))\n",
    "        \n",
    "    #Sonido de nudillos\n",
    "    sounds('puerta golpes con nudillos 7.mp3')\n",
    "\n",
    "    linebreak()\n",
    "        \n",
    "    play_room(game_state[\"current_room\"])"
   ]
  },
  {
   "cell_type": "code",
   "execution_count": null,
   "metadata": {
    "ExecuteTime": {
     "end_time": "2020-01-16T20:40:34.645718Z",
     "start_time": "2020-01-16T20:40:34.632466Z"
    },
    "code_folding": []
   },
   "outputs": [],
   "source": [
    "def play_room(room):\n",
    "    \"\"\"\n",
    "    Play a room. First check if the room being played is the target room.\n",
    "    If it is, the game will end with success. Otherwise, let player either \n",
    "    explore (list all items in this room) or examine an item found here.\n",
    "    \"\"\"\n",
    "    \n",
    "    game_state[\"current_room\"] = room\n",
    "    #Paso final de living_room --> outside:\n",
    "    if(game_state[\"current_room\"] == game_state[\"target_room\"]):\n",
    "        print(\"Congrats! You \" + colored(\" escaped \",attrs = ['bold']) + \"the room!\")\n",
    "        #Sonido de aplausos e imagen de congrats\n",
    "        sounds('aplausos 4 grupo reducido.mp3')\n",
    "        imagenes('congrats.gif')\n",
    "        restart_game()\n",
    "        \n",
    "    else:\n",
    "        #Interroga para saber la acción que realizar en la habitación.\n",
    "        print(\"You are now in \" + colored((room[\"name\"]), attrs = ['bold']))\n",
    "        intended_action = input(\"What would you like to do? Type 'explore' or 'examine'?\").strip()\n",
    "        if intended_action == \"explore\":\n",
    "            explore_room(room)\n",
    "            play_room(room)\n",
    "        elif intended_action == \"examine\":\n",
    "            examine_item(input(\"What would you like to examine?\").strip())\n",
    "        elif intended_action == \"exit\":\n",
    "            restart_game()\n",
    "        else:\n",
    "            print(\"Not sure what you mean. Type\" + \n",
    "                  colored(\"'explore'\", attrs = ['bold']) + \n",
    "                  \"or\" + colored(\"'examine'\", attrs = ['bold']) + \"?\")\n",
    "            \n",
    "            play_room(room)\n",
    "            \n",
    "        linebreak()"
   ]
  },
  {
   "cell_type": "code",
   "execution_count": null,
   "metadata": {
    "ExecuteTime": {
     "end_time": "2020-01-16T20:40:34.660475Z",
     "start_time": "2020-01-16T20:40:34.651514Z"
    },
    "code_folding": []
   },
   "outputs": [],
   "source": [
    "def explore_room(room):\n",
    "    \"\"\"\n",
    "    Explore a room. List all items belonging to this room.\n",
    "    \"\"\"\n",
    "    items = [i[\"name\"] for i in object_relations[room[\"name\"]]]\n",
    "    \n",
    "    linebreak()\n",
    "    \n",
    "    print(\"You \" + colored(\"explore\", attrs = ['bold']) + \n",
    "          \" the room. This is \" +\n",
    "          colored(room[\"name\"], attrs = ['bold']) +\n",
    "          \". \\n\\nYou find \" + colored(\", \".join(items), attrs = ['bold']) + \".\")\n",
    "    \n",
    "    linebreak()"
   ]
  },
  {
   "cell_type": "code",
   "execution_count": null,
   "metadata": {
    "ExecuteTime": {
     "end_time": "2020-01-16T20:40:34.694751Z",
     "start_time": "2020-01-16T20:40:34.688505Z"
    },
    "code_folding": []
   },
   "outputs": [],
   "source": [
    "def get_next_room_of_door(door, current_room):\n",
    "    \"\"\"\n",
    "    From object_relations, find the two rooms connected to the given door.\n",
    "    Return the room that is not the current_room.\n",
    "    \"\"\"\n",
    "    connected_rooms = object_relations[door[\"name\"]]\n",
    "    for room in connected_rooms:\n",
    "        if(not current_room == room):\n",
    "            return room"
   ]
  },
  {
   "cell_type": "code",
   "execution_count": null,
   "metadata": {
    "ExecuteTime": {
     "end_time": "2020-01-16T20:40:34.766757Z",
     "start_time": "2020-01-16T20:40:34.739636Z"
    },
    "code_folding": []
   },
   "outputs": [],
   "source": [
    "def examine_item(item_name):\n",
    "    \"\"\"\n",
    "    Examine an item which can be a door or furniture.\n",
    "    First make sure the intended item belongs to the current room.\n",
    "    Then check if the item is a door. Tell player if key hasn't been \n",
    "    collected yet. Otherwise ask player if they want to go to the next\n",
    "    room. If the item is not a door, then check if it contains keys.\n",
    "    Collect the key if found and update the game state. At the end,\n",
    "    play either the current or the next room depending on the game state\n",
    "    to keep playing.\n",
    "    \"\"\"\n",
    "    \n",
    "    current_room = game_state[\"current_room\"]\n",
    "    next_room = \"\"\n",
    "    output = None\n",
    "    \n",
    "    for item in object_relations[current_room[\"name\"]]:\n",
    "        if(item[\"name\"] == item_name):\n",
    "            output = \"You examine \" + colored(item_name, attrs = ['bold']) + \". \"\n",
    "            if(item[\"type\"] == \"door\"):\n",
    "                have_key = False\n",
    "                for key in game_state[\"keys_collected\"]:\n",
    "                    if(key[\"target\"] == item):\n",
    "                        have_key = True\n",
    "                if(have_key):\n",
    "                    output += \"You unlock it with a key you have.\"\n",
    "                    next_room = get_next_room_of_door(item, current_room)\n",
    "                else:\n",
    "                    output += \"It is locked but you don't have the key.\"\n",
    "                print(output)\n",
    "                \n",
    "            #Acciones en objetos concretos\n",
    "            elif(item[\"name\"]==\"pictures\"):\n",
    "                imagenes('pictures wall.jpeg')\n",
    "                print(output)\n",
    "\n",
    "            elif(item[\"name\"]==\"window\"):\n",
    "                imagenes('small window.jpg')\n",
    "                sounds('008570002_prev.mp3')\n",
    "                print(output)\n",
    "\n",
    "            elif (item[\"name\"]==\"strange portrait\"):\n",
    "                imagenes('strage portrait.jpg')\n",
    "                sounds('risa malvada.mp3')\n",
    "                print(output)\n",
    "\n",
    "            elif (item[\"name\"]==\"painted wall\"):\n",
    "                imagenes ('The_cake_is_a_lie.jpg')\n",
    "                print(output)\n",
    "            \n",
    "            #Interacción con black door    \n",
    "            elif(item[\"type\"] == \"black door\"):\n",
    "                check = 3\n",
    "                while check > 0:\n",
    "                    if check ==3:\n",
    "                        print (\"You have 3 attempts\")\n",
    "                    elif check !=3:\n",
    "                        print(check, \"attempts.\")\n",
    "\n",
    "                    password = input(\"Intro the \"+ colored(\"password\", attrs = ['bold']) +\n",
    "                                                     \".\\nOr\"+ colored(\"'try later'. \", attrs = ['bold']))\n",
    "                    check-=1\n",
    "\n",
    "                    if password == \"1438227\":\n",
    "                        print(\"correct password\")\n",
    "                        next_room = get_next_room_of_door(item, current_room)\n",
    "                        break\n",
    "\n",
    "                    elif password == \"try later\":\n",
    "                        play_room(current_room)\n",
    "\n",
    "                    elif check == 0:\n",
    "                        print(\"You die\")\n",
    "                        imagenes('udie.jpg')\n",
    "                        restart_game()\n",
    "                        break\n",
    "\n",
    "                    else:\n",
    "                        print(check, \"attempts.\")\n",
    "                        password = input(\"Wrong password try again.\")\n",
    "                        check-=1\n",
    "                        sounds('008570002_prev.mp3')\n",
    "            \n",
    "            #Encuentra lleve y la añade a la lista\n",
    "            else:\n",
    "                if(item[\"name\"] in object_relations and len(object_relations[item[\"name\"]])>0):\n",
    "                    item_found = object_relations[item[\"name\"]].pop()\n",
    "                    game_state[\"keys_collected\"].append(item_found)\n",
    "                    output += \"You find \" + item_found[\"name\"] + \".\"\n",
    "                    if item_found[\"type\"] == \"key\":\n",
    "                        imagenes(\"rusticmetalkey-ornament-30169440.jpg\")  \n",
    "                else:\n",
    "                    output += \"There isn't anything interesting about it.\"\n",
    "                    \n",
    "                print(output)\n",
    "            break\n",
    "\n",
    "    if(output is None):\n",
    "        print(\"The item you requested is not found in the current room.\")\n",
    "    \n",
    "    if(next_room and input(\"Do you want to go to the next room? Ener 'yes' or 'no'\").strip() == 'yes'):\n",
    "        sounds('puerta apertura con llave en cerradura 5.mp3')\n",
    "        play_room(next_room)\n",
    "    else:\n",
    "        play_room(current_room)"
   ]
  },
  {
   "cell_type": "markdown",
   "metadata": {},
   "source": [
    "## Game"
   ]
  },
  {
   "cell_type": "code",
   "execution_count": null,
   "metadata": {
    "ExecuteTime": {
     "start_time": "2020-01-16T20:40:34.782Z"
    },
    "code_folding": []
   },
   "outputs": [],
   "source": [
    "#Game\n",
    "game_state = INIT_GAME_STATE.copy()\n",
    "\n",
    "start_game()"
   ]
  },
  {
   "cell_type": "code",
   "execution_count": null,
   "metadata": {},
   "outputs": [],
   "source": []
  },
  {
   "cell_type": "code",
   "execution_count": null,
   "metadata": {},
   "outputs": [],
   "source": []
  }
 ],
 "metadata": {
  "kernelspec": {
   "display_name": "Python 3",
   "language": "python",
   "name": "python3"
  },
  "language_info": {
   "codemirror_mode": {
    "name": "ipython",
    "version": 3
   },
   "file_extension": ".py",
   "mimetype": "text/x-python",
   "name": "python",
   "nbconvert_exporter": "python",
   "pygments_lexer": "ipython3",
   "version": "3.7.4"
  },
  "toc": {
   "base_numbering": 1,
   "nav_menu": {},
   "number_sections": true,
   "sideBar": true,
   "skip_h1_title": false,
   "title_cell": "Table of Contents",
   "title_sidebar": "Contents",
   "toc_cell": false,
   "toc_position": {},
   "toc_section_display": true,
   "toc_window_display": false
  },
  "varInspector": {
   "cols": {
    "lenName": 16,
    "lenType": 16,
    "lenVar": 40
   },
   "kernels_config": {
    "python": {
     "delete_cmd_postfix": "",
     "delete_cmd_prefix": "del ",
     "library": "var_list.py",
     "varRefreshCmd": "print(var_dic_list())"
    },
    "r": {
     "delete_cmd_postfix": ") ",
     "delete_cmd_prefix": "rm(",
     "library": "var_list.r",
     "varRefreshCmd": "cat(var_dic_list()) "
    }
   },
   "types_to_exclude": [
    "module",
    "function",
    "builtin_function_or_method",
    "instance",
    "_Feature"
   ],
   "window_display": false
  }
 },
 "nbformat": 4,
 "nbformat_minor": 2
}
